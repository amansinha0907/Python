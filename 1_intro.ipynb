{
  "nbformat": 4,
  "nbformat_minor": 0,
  "metadata": {
    "colab": {
      "provenance": [],
      "authorship_tag": "ABX9TyNGyAuiOaDyEQ8BhEAEtqg9",
      "include_colab_link": true
    },
    "kernelspec": {
      "name": "python3",
      "display_name": "Python 3"
    },
    "language_info": {
      "name": "python"
    }
  },
  "cells": [
    {
      "cell_type": "markdown",
      "metadata": {
        "id": "view-in-github",
        "colab_type": "text"
      },
      "source": [
        "<a href=\"https://colab.research.google.com/github/amansinha0907/Python/blob/main/1_intro.ipynb\" target=\"_parent\"><img src=\"https://colab.research.google.com/assets/colab-badge.svg\" alt=\"Open In Colab\"/></a>"
      ]
    },
    {
      "cell_type": "markdown",
      "source": [],
      "metadata": {
        "id": "yifJM3IyQl01"
      }
    },
    {
      "cell_type": "markdown",
      "source": [
        "1. print"
      ],
      "metadata": {
        "id": "6Z0rLBwwQvbV"
      }
    },
    {
      "cell_type": "code",
      "source": [
        "print(12)\n",
        "print(12.5)\n",
        "print(\"Ashish Jangra)\")\n",
        "print(True)\n",
        "print()\n",
        "print('--------')\n",
        "\n",
        "print(12, 2.5, True,'AShish')"
      ],
      "metadata": {
        "colab": {
          "base_uri": "https://localhost:8080/"
        },
        "id": "tAb4FASRQleP",
        "outputId": "0e65a62f-f00e-407a-a20a-bce9ff281057"
      },
      "execution_count": 4,
      "outputs": [
        {
          "output_type": "stream",
          "name": "stdout",
          "text": [
            "12\n",
            "12.5\n",
            "Ashish Jangra)\n",
            "True\n",
            "\n",
            "--------\n",
            "12 2.5 True AShish\n"
          ]
        }
      ]
    },
    {
      "cell_type": "markdown",
      "source": [
        "  2. type"
      ],
      "metadata": {
        "id": "fuog9306Rjzp"
      }
    },
    {
      "cell_type": "code",
      "source": [
        "print(type(12))\n",
        "print(type(12.5))\n",
        "print(type('12.5'))\n",
        "print(type('Ashish'))\n",
        "print(type(True))\n",
        "print(type('True'))"
      ],
      "metadata": {
        "colab": {
          "base_uri": "https://localhost:8080/"
        },
        "id": "CbeEOhVnR3Gr",
        "outputId": "07440546-fba7-4c53-85ba-1d39fcf0822f"
      },
      "execution_count": 5,
      "outputs": [
        {
          "output_type": "stream",
          "name": "stdout",
          "text": [
            "<class 'int'>\n",
            "<class 'float'>\n",
            "<class 'str'>\n",
            "<class 'str'>\n",
            "<class 'bool'>\n",
            "<class 'str'>\n"
          ]
        }
      ]
    },
    {
      "cell_type": "markdown",
      "source": [
        "3. Operators\n",
        "  \n",
        "  3.1) Arithmetic\n"
      ],
      "metadata": {
        "id": "G_Hd1iocR5oy"
      }
    },
    {
      "cell_type": "code",
      "source": [
        "print(12+5)\n",
        "print(12-5)\n",
        "print(12*5)\n",
        "print(12/5)\n",
        "print(12//5)\n",
        "print(12%5)\n",
        "print(12**5)"
      ],
      "metadata": {
        "colab": {
          "base_uri": "https://localhost:8080/"
        },
        "id": "iMKtI8U4SxrP",
        "outputId": "3f4e14df-3ada-47c4-cada-d19a09b42d4d"
      },
      "execution_count": 6,
      "outputs": [
        {
          "output_type": "stream",
          "name": "stdout",
          "text": [
            "17\n",
            "7\n",
            "60\n",
            "2.4\n",
            "2\n",
            "2\n",
            "248832\n"
          ]
        }
      ]
    },
    {
      "cell_type": "markdown",
      "source": [
        "      3.1.2) Int - Float\n"
      ],
      "metadata": {
        "id": "OVaGg1PxS0BE"
      }
    },
    {
      "cell_type": "code",
      "source": [
        "print(12+5.2)\n",
        "print(12-5.2)\n",
        "print(12*5.2)\n",
        "print(12/5.2)\n",
        "print(12//5.2)\n",
        "print(12%5.2)\n",
        "print(12**5.2)\n",
        ""
      ],
      "metadata": {
        "colab": {
          "base_uri": "https://localhost:8080/"
        },
        "id": "3vCmyEmES58r",
        "outputId": "68c2e650-0280-42bf-a1e6-47751568b6f8"
      },
      "execution_count": 7,
      "outputs": [
        {
          "output_type": "stream",
          "name": "stdout",
          "text": [
            "17.2\n",
            "6.8\n",
            "62.400000000000006\n",
            "2.3076923076923075\n",
            "2.0\n",
            "1.5999999999999996\n",
            "409018.0552424305\n"
          ]
        }
      ]
    },
    {
      "cell_type": "markdown",
      "source": [
        "     3.1.3) Int - String\n",
        "     "
      ],
      "metadata": {
        "id": "xim3GBt4WRok"
      }
    },
    {
      "cell_type": "code",
      "source": [
        "print(12*'Ashish')"
      ],
      "metadata": {
        "colab": {
          "base_uri": "https://localhost:8080/"
        },
        "id": "AKDeXMtndUWi",
        "outputId": "679e29c5-5111-4971-caca-2ad10b72ab67"
      },
      "execution_count": 9,
      "outputs": [
        {
          "output_type": "stream",
          "name": "stdout",
          "text": [
            "AshishAshishAshishAshishAshishAshishAshishAshishAshishAshishAshishAshish\n"
          ]
        }
      ]
    },
    {
      "cell_type": "markdown",
      "source": [
        "    3.1.4) Int - Boolean\n",
        "    "
      ],
      "metadata": {
        "id": "GL2RHa4udYyL"
      }
    },
    {
      "cell_type": "code",
      "source": [
        "\n",
        "print(12+True)\n",
        "print(12-False)\n",
        "print(12*True)\n",
        "print(12/True)\n",
        "print(12//True)\n",
        "print(12%True)\n",
        "print(12**True)"
      ],
      "metadata": {
        "colab": {
          "base_uri": "https://localhost:8080/"
        },
        "id": "suEguoDgWcTh",
        "outputId": "c4c32ed7-d2c1-4738-bf70-b128cab3cf94"
      },
      "execution_count": 10,
      "outputs": [
        {
          "output_type": "stream",
          "name": "stdout",
          "text": [
            "13\n",
            "12\n",
            "12\n",
            "12.0\n",
            "12\n",
            "0\n",
            "12\n"
          ]
        }
      ]
    },
    {
      "cell_type": "markdown",
      "source": [
        "3.2) Comparison"
      ],
      "metadata": {
        "id": "PQ6RNFsideM_"
      }
    },
    {
      "cell_type": "code",
      "source": [
        "print(10>5)\n",
        "print(10<5)\n",
        "print(10==5)\n",
        "print(10!=5)\n",
        "print(5>=5)\n",
        "print(5>5)\n",
        "print(10<=5)"
      ],
      "metadata": {
        "id": "z1-lmHE3WjSf"
      },
      "execution_count": null,
      "outputs": []
    },
    {
      "cell_type": "markdown",
      "source": [
        "3.3) Logical\n"
      ],
      "metadata": {
        "id": "HzLkPc_qWqvp"
      }
    },
    {
      "cell_type": "code",
      "execution_count": 11,
      "metadata": {
        "id": "lCGP8lZ9RSdq",
        "colab": {
          "base_uri": "https://localhost:8080/"
        },
        "outputId": "cd48090b-7882-46be-e372-eacdd3388f57"
      },
      "outputs": [
        {
          "output_type": "stream",
          "name": "stdout",
          "text": [
            "True\n",
            "True\n",
            "True\n",
            "False\n"
          ]
        }
      ],
      "source": [
        "age =35\n",
        "\n",
        "print (age%5==0 and age%7==0)\n",
        "print (age%5==0 or age%7==0)\n",
        "print (age%5==0 and age%7==0 and age%9!=0)\n",
        "print (age%5==0 and age%7==0 and age%9!=0 and age%2==0)"
      ]
    },
    {
      "cell_type": "markdown",
      "source": [
        "4. Typecasting\n"
      ],
      "metadata": {
        "id": "oSkYchLHWwNV"
      }
    },
    {
      "cell_type": "markdown",
      "source": [
        "        4.1) Int"
      ],
      "metadata": {
        "id": "WMhKA_LQWy_y"
      }
    },
    {
      "cell_type": "code",
      "source": [
        "print(int(12.99999))\n",
        "print(int('4623'))\n",
        "print(int(True))\n",
        "print(int(False))"
      ],
      "metadata": {
        "colab": {
          "base_uri": "https://localhost:8080/"
        },
        "id": "e62QN4_CWv5C",
        "outputId": "d77c743e-233b-4efe-cfa5-cb3f3a836c4b"
      },
      "execution_count": 12,
      "outputs": [
        {
          "output_type": "stream",
          "name": "stdout",
          "text": [
            "12\n",
            "4623\n",
            "1\n",
            "0\n"
          ]
        }
      ]
    },
    {
      "cell_type": "markdown",
      "source": [
        "    \n",
        "    4.2) Float"
      ],
      "metadata": {
        "id": "S1dMVt0KW6hX"
      }
    },
    {
      "cell_type": "code",
      "source": [
        "\n",
        "print(float(12))\n",
        "print(float('462332'))\n",
        "print(float(True))\n",
        "print(float(False))"
      ],
      "metadata": {
        "colab": {
          "base_uri": "https://localhost:8080/"
        },
        "id": "TS6kdcmGW_5l",
        "outputId": "7ea5454e-dafa-4644-f058-d756f15b3a2a"
      },
      "execution_count": 13,
      "outputs": [
        {
          "output_type": "stream",
          "name": "stdout",
          "text": [
            "12.0\n",
            "462332.0\n",
            "1.0\n",
            "0.0\n"
          ]
        }
      ]
    },
    {
      "cell_type": "markdown",
      "source": [
        "    4.3) Boolean"
      ],
      "metadata": {
        "id": "6OcUaEXmXDRz"
      }
    },
    {
      "cell_type": "code",
      "source": [
        "\n",
        "print(bool(0))\n",
        "print(bool(0.0))\n",
        "print(bool(' '))"
      ],
      "metadata": {
        "colab": {
          "base_uri": "https://localhost:8080/"
        },
        "id": "hA3_N5cTXFeC",
        "outputId": "b3b33c19-c83b-4f78-d560-5a90b2848d22"
      },
      "execution_count": 14,
      "outputs": [
        {
          "output_type": "stream",
          "name": "stdout",
          "text": [
            "False\n",
            "False\n",
            "True\n"
          ]
        }
      ]
    },
    {
      "cell_type": "markdown",
      "source": [
        "    4.4) String"
      ],
      "metadata": {
        "id": "RYMt20wOXL_m"
      }
    },
    {
      "cell_type": "code",
      "source": [
        "print(String(12))\n",
        "print(String('462332'))\n",
        "print(String(True))\n",
        "print(String(False))"
      ],
      "metadata": {
        "colab": {
          "base_uri": "https://localhost:8080/",
          "height": 193
        },
        "id": "y-H5VTjbXReS",
        "outputId": "0c2046f7-6e3b-4df5-c1cd-d6f068d67d68"
      },
      "execution_count": 15,
      "outputs": [
        {
          "output_type": "error",
          "ename": "NameError",
          "evalue": "name 'String' is not defined",
          "traceback": [
            "\u001b[0;31m---------------------------------------------------------------------------\u001b[0m",
            "\u001b[0;31mNameError\u001b[0m                                 Traceback (most recent call last)",
            "\u001b[0;32m<ipython-input-15-7dad209d65d5>\u001b[0m in \u001b[0;36m<cell line: 0>\u001b[0;34m()\u001b[0m\n\u001b[0;32m----> 1\u001b[0;31m \u001b[0mprint\u001b[0m\u001b[0;34m(\u001b[0m\u001b[0mString\u001b[0m\u001b[0;34m(\u001b[0m\u001b[0;36m12\u001b[0m\u001b[0;34m)\u001b[0m\u001b[0;34m)\u001b[0m\u001b[0;34m\u001b[0m\u001b[0;34m\u001b[0m\u001b[0m\n\u001b[0m\u001b[1;32m      2\u001b[0m \u001b[0mprint\u001b[0m\u001b[0;34m(\u001b[0m\u001b[0mString\u001b[0m\u001b[0;34m(\u001b[0m\u001b[0;34m'462332'\u001b[0m\u001b[0;34m)\u001b[0m\u001b[0;34m)\u001b[0m\u001b[0;34m\u001b[0m\u001b[0;34m\u001b[0m\u001b[0m\n\u001b[1;32m      3\u001b[0m \u001b[0mprint\u001b[0m\u001b[0;34m(\u001b[0m\u001b[0mString\u001b[0m\u001b[0;34m(\u001b[0m\u001b[0;32mTrue\u001b[0m\u001b[0;34m)\u001b[0m\u001b[0;34m)\u001b[0m\u001b[0;34m\u001b[0m\u001b[0;34m\u001b[0m\u001b[0m\n\u001b[1;32m      4\u001b[0m \u001b[0mprint\u001b[0m\u001b[0;34m(\u001b[0m\u001b[0mString\u001b[0m\u001b[0;34m(\u001b[0m\u001b[0;32mFalse\u001b[0m\u001b[0;34m)\u001b[0m\u001b[0;34m)\u001b[0m\u001b[0;34m\u001b[0m\u001b[0;34m\u001b[0m\u001b[0m\n",
            "\u001b[0;31mNameError\u001b[0m: name 'String' is not defined"
          ]
        }
      ]
    },
    {
      "cell_type": "markdown",
      "source": [
        "print \"123\""
      ],
      "metadata": {
        "id": "pgOe-DEsbc8C"
      }
    },
    {
      "cell_type": "code",
      "source": [
        "a=1\n",
        "b=2\n",
        "c=3\n",
        "print(int(str(a) + str(b) + str(c)))"
      ],
      "metadata": {
        "colab": {
          "base_uri": "https://localhost:8080/"
        },
        "id": "fWwq-geHbb2j",
        "outputId": "6edcb80e-f061-4a0e-bf29-91c04102d78e"
      },
      "execution_count": 1,
      "outputs": [
        {
          "output_type": "stream",
          "name": "stdout",
          "text": [
            "123\n"
          ]
        }
      ]
    },
    {
      "cell_type": "markdown",
      "source": [
        "5. Conditionals"
      ],
      "metadata": {
        "id": "sinCKvXKb04I"
      }
    },
    {
      "cell_type": "code",
      "source": [
        "n=36\n",
        "\n",
        "if (n%5==0 and n%7==0):\n",
        "    print('Dividible')\n",
        "else:\n",
        "    print('Not Dividible')"
      ],
      "metadata": {
        "colab": {
          "base_uri": "https://localhost:8080/"
        },
        "id": "fUUnJb88b-fN",
        "outputId": "436feb9f-b496-4934-e5a0-101516e0bef5"
      },
      "execution_count": 3,
      "outputs": [
        {
          "output_type": "stream",
          "name": "stdout",
          "text": [
            "Not Dividible\n"
          ]
        }
      ]
    },
    {
      "cell_type": "markdown",
      "source": [
        "NUmber is even or odd"
      ],
      "metadata": {
        "id": "e5JO1lg5d9O1"
      }
    },
    {
      "cell_type": "code",
      "source": [
        "N=54\n",
        "\n",
        "if (n%2==0):\n",
        "  print(\"Even\")\n",
        "else:\n",
        "  print(\"odd\")"
      ],
      "metadata": {
        "colab": {
          "base_uri": "https://localhost:8080/"
        },
        "id": "lmkda8rTedVs",
        "outputId": "5671a8d4-03c8-4054-9ba9-6cfbe0e94302"
      },
      "execution_count": 16,
      "outputs": [
        {
          "output_type": "stream",
          "name": "stdout",
          "text": [
            "Even\n"
          ]
        }
      ]
    },
    {
      "cell_type": "markdown",
      "source": [
        "Number is devisible bt 5&7 but not 9 and must be off betwe\\en(0,100)\n"
      ],
      "metadata": {
        "id": "PJDLQT7Ieq9O"
      }
    },
    {
      "cell_type": "code",
      "source": [
        "n=35\n",
        "p1=5\n",
        "p2=7\n",
        "p3=9\n",
        "if((n%p1==0) and (n%p2==0) and not(n%p3==0) and (n>=0 and n<=100)):\n",
        "  print(\"true\")\n",
        "else:\n",
        "  print(\"False\")"
      ],
      "metadata": {
        "colab": {
          "base_uri": "https://localhost:8080/"
        },
        "id": "FSt1-VJKe2KV",
        "outputId": "06585114-f012-4c58-bbc7-65c42f170142"
      },
      "execution_count": 27,
      "outputs": [
        {
          "output_type": "stream",
          "name": "stdout",
          "text": [
            "true\n"
          ]
        }
      ]
    },
    {
      "cell_type": "markdown",
      "source": [
        "Number is devisible by either 5&7 but not 9 and must be off betwe\\en(0,100)"
      ],
      "metadata": {
        "id": "mNpO0_TIhdFq"
      }
    },
    {
      "cell_type": "code",
      "source": [
        "n= int(input(\"enter the number: \"))\n",
        "p1=5\n",
        "p2=7\n",
        "p3=9\n",
        "if(((n%p1==0) or (n%p2==0)) and (n%p3!=0) and (n>=0 and n<=100)):\n",
        "  print(\"true\")\n",
        "else:\n",
        "  print(\"False\")"
      ],
      "metadata": {
        "colab": {
          "base_uri": "https://localhost:8080/"
        },
        "id": "3vtIIAYGiGNn",
        "outputId": "4ec6f612-cc54-4186-fb1d-b20043ca9f34"
      },
      "execution_count": 36,
      "outputs": [
        {
          "output_type": "stream",
          "name": "stdout",
          "text": [
            "enter the number: 35\n",
            "true\n"
          ]
        }
      ]
    },
    {
      "cell_type": "markdown",
      "source": [
        " 5_1 elif"
      ],
      "metadata": {
        "id": "nuiMZSrjjj-K"
      }
    },
    {
      "cell_type": "code",
      "source": [
        "n=45\n",
        "if (n<=1000 and n>=0):\n",
        "  if n%5==0 and n%7==0 and n%9==0:\n",
        "    print(\"5 - 7 - 9\")\n",
        "  elif n%5==0 and n%7==0 and n%9!=0:\n",
        "    print(\"5 - 7 - not 9\")\n",
        "  elif n%5==0 and n%9==0 and n%7!=0:\n",
        "    print(\"5 - not7 - 9\")\n",
        "  elif(n%7==0 and n%9==0 and n%5!=0):\n",
        "    print(\"not 5 - 7 - 9\")\n",
        "  elif(n%5==0 and n%7!=0 and n%9!=0):\n",
        "    print(\"5 - not7 - not9 \")\n",
        "  elif(n%7==0 and n%5!=0 and n%9!=0):\n",
        "    print(\"not5 - 7 - not9\")\n",
        "  elif(n%9==0 and n%5!=0 and n%7!=0):\n",
        "    print(\"not5 -not7 - 9\")\n",
        "  else:\n",
        "      print(\"Invalid\")\n",
        "else:\n",
        "    print(\"Not in range\")"
      ],
      "metadata": {
        "colab": {
          "base_uri": "https://localhost:8080/"
        },
        "id": "gxbSSdfXjK6c",
        "outputId": "fb0775fa-d9a2-4c30-d6bd-a2300a123589"
      },
      "execution_count": 47,
      "outputs": [
        {
          "output_type": "stream",
          "name": "stdout",
          "text": [
            "5 - not7 - 9\n"
          ]
        }
      ]
    }
  ]
}
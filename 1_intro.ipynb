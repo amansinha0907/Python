{
  "nbformat": 4,
  "nbformat_minor": 0,
  "metadata": {
    "colab": {
      "provenance": [],
      "authorship_tag": "ABX9TyMjvPnv+BfuCd2Ho7goMFEX",
      "include_colab_link": true
    },
    "kernelspec": {
      "name": "python3",
      "display_name": "Python 3"
    },
    "language_info": {
      "name": "python"
    }
  },
  "cells": [
    {
      "cell_type": "markdown",
      "metadata": {
        "id": "view-in-github",
        "colab_type": "text"
      },
      "source": [
        "<a href=\"https://colab.research.google.com/github/amansinha0907/Python/blob/main/1_intro.ipynb\" target=\"_parent\"><img src=\"https://colab.research.google.com/assets/colab-badge.svg\" alt=\"Open In Colab\"/></a>"
      ]
    },
    {
      "cell_type": "markdown",
      "source": [],
      "metadata": {
        "id": "yifJM3IyQl01"
      }
    },
    {
      "cell_type": "markdown",
      "source": [
        "1. print"
      ],
      "metadata": {
        "id": "6Z0rLBwwQvbV"
      }
    },
    {
      "cell_type": "code",
      "source": [
        "print(12)\n",
        "print(12.5)\n",
        "print(\"Ashish Jangra)\")\n",
        "print(True)\n",
        "print()\n",
        "print('--------')\n",
        "\n",
        "print(12, 2.5, True,'AShish')"
      ],
      "metadata": {
        "colab": {
          "base_uri": "https://localhost:8080/"
        },
        "id": "tAb4FASRQleP",
        "outputId": "0e65a62f-f00e-407a-a20a-bce9ff281057"
      },
      "execution_count": null,
      "outputs": [
        {
          "output_type": "stream",
          "name": "stdout",
          "text": [
            "12\n",
            "12.5\n",
            "Ashish Jangra)\n",
            "True\n",
            "\n",
            "--------\n",
            "12 2.5 True AShish\n"
          ]
        }
      ]
    },
    {
      "cell_type": "markdown",
      "source": [
        "  2. type"
      ],
      "metadata": {
        "id": "fuog9306Rjzp"
      }
    },
    {
      "cell_type": "code",
      "source": [
        "print(type(12))\n",
        "print(type(12.5))\n",
        "print(type('12.5'))\n",
        "print(type('Ashish'))\n",
        "print(type(True))\n",
        "print(type('True'))"
      ],
      "metadata": {
        "colab": {
          "base_uri": "https://localhost:8080/"
        },
        "id": "CbeEOhVnR3Gr",
        "outputId": "07440546-fba7-4c53-85ba-1d39fcf0822f"
      },
      "execution_count": null,
      "outputs": [
        {
          "output_type": "stream",
          "name": "stdout",
          "text": [
            "<class 'int'>\n",
            "<class 'float'>\n",
            "<class 'str'>\n",
            "<class 'str'>\n",
            "<class 'bool'>\n",
            "<class 'str'>\n"
          ]
        }
      ]
    },
    {
      "cell_type": "markdown",
      "source": [
        "3. Operators\n",
        "  \n",
        "  3.1) Arithmetic\n"
      ],
      "metadata": {
        "id": "G_Hd1iocR5oy"
      }
    },
    {
      "cell_type": "code",
      "source": [
        "print(12+5)\n",
        "print(12-5)\n",
        "print(12*5)\n",
        "print(12/5)\n",
        "print(12//5)\n",
        "print(12%5)\n",
        "print(12**5)"
      ],
      "metadata": {
        "colab": {
          "base_uri": "https://localhost:8080/"
        },
        "id": "iMKtI8U4SxrP",
        "outputId": "3f4e14df-3ada-47c4-cada-d19a09b42d4d"
      },
      "execution_count": null,
      "outputs": [
        {
          "output_type": "stream",
          "name": "stdout",
          "text": [
            "17\n",
            "7\n",
            "60\n",
            "2.4\n",
            "2\n",
            "2\n",
            "248832\n"
          ]
        }
      ]
    },
    {
      "cell_type": "markdown",
      "source": [
        "      3.1.2) Int - Float\n"
      ],
      "metadata": {
        "id": "OVaGg1PxS0BE"
      }
    },
    {
      "cell_type": "code",
      "source": [
        "print(12+5.2)\n",
        "print(12-5.2)\n",
        "print(12*5.2)\n",
        "print(12/5.2)\n",
        "print(12//5.2)\n",
        "print(12%5.2)\n",
        "print(12**5.2)\n"
      ],
      "metadata": {
        "colab": {
          "base_uri": "https://localhost:8080/"
        },
        "id": "3vCmyEmES58r",
        "outputId": "68c2e650-0280-42bf-a1e6-47751568b6f8"
      },
      "execution_count": null,
      "outputs": [
        {
          "output_type": "stream",
          "name": "stdout",
          "text": [
            "17.2\n",
            "6.8\n",
            "62.400000000000006\n",
            "2.3076923076923075\n",
            "2.0\n",
            "1.5999999999999996\n",
            "409018.0552424305\n"
          ]
        }
      ]
    },
    {
      "cell_type": "markdown",
      "source": [
        "     3.1.3) Int - String\n",
        "     "
      ],
      "metadata": {
        "id": "xim3GBt4WRok"
      }
    },
    {
      "cell_type": "code",
      "source": [
        "print(12*'Ashish')"
      ],
      "metadata": {
        "colab": {
          "base_uri": "https://localhost:8080/"
        },
        "id": "AKDeXMtndUWi",
        "outputId": "679e29c5-5111-4971-caca-2ad10b72ab67"
      },
      "execution_count": null,
      "outputs": [
        {
          "output_type": "stream",
          "name": "stdout",
          "text": [
            "AshishAshishAshishAshishAshishAshishAshishAshishAshishAshishAshishAshish\n"
          ]
        }
      ]
    },
    {
      "cell_type": "markdown",
      "source": [
        "    3.1.4) Int - Boolean\n",
        "    "
      ],
      "metadata": {
        "id": "GL2RHa4udYyL"
      }
    },
    {
      "cell_type": "code",
      "source": [
        "\n",
        "print(12+True)\n",
        "print(12-False)\n",
        "print(12*True)\n",
        "print(12/True)\n",
        "print(12//True)\n",
        "print(12%True)\n",
        "print(12**True)"
      ],
      "metadata": {
        "colab": {
          "base_uri": "https://localhost:8080/"
        },
        "id": "suEguoDgWcTh",
        "outputId": "c4c32ed7-d2c1-4738-bf70-b128cab3cf94"
      },
      "execution_count": null,
      "outputs": [
        {
          "output_type": "stream",
          "name": "stdout",
          "text": [
            "13\n",
            "12\n",
            "12\n",
            "12.0\n",
            "12\n",
            "0\n",
            "12\n"
          ]
        }
      ]
    },
    {
      "cell_type": "markdown",
      "source": [
        "3.2) Comparison"
      ],
      "metadata": {
        "id": "PQ6RNFsideM_"
      }
    },
    {
      "cell_type": "code",
      "source": [
        "print(10>5)\n",
        "print(10<5)\n",
        "print(10==5)\n",
        "print(10!=5)\n",
        "print(5>=5)\n",
        "print(5>5)\n",
        "print(10<=5)"
      ],
      "metadata": {
        "id": "z1-lmHE3WjSf"
      },
      "execution_count": null,
      "outputs": []
    },
    {
      "cell_type": "markdown",
      "source": [
        "3.3) Logical\n"
      ],
      "metadata": {
        "id": "HzLkPc_qWqvp"
      }
    },
    {
      "cell_type": "code",
      "execution_count": null,
      "metadata": {
        "id": "lCGP8lZ9RSdq",
        "colab": {
          "base_uri": "https://localhost:8080/"
        },
        "outputId": "cd48090b-7882-46be-e372-eacdd3388f57"
      },
      "outputs": [
        {
          "output_type": "stream",
          "name": "stdout",
          "text": [
            "True\n",
            "True\n",
            "True\n",
            "False\n"
          ]
        }
      ],
      "source": [
        "age =35\n",
        "\n",
        "print (age%5==0 and age%7==0)\n",
        "print (age%5==0 or age%7==0)\n",
        "print (age%5==0 and age%7==0 and age%9!=0)\n",
        "print (age%5==0 and age%7==0 and age%9!=0 and age%2==0)"
      ]
    },
    {
      "cell_type": "markdown",
      "source": [
        "4. Typecasting\n"
      ],
      "metadata": {
        "id": "oSkYchLHWwNV"
      }
    },
    {
      "cell_type": "markdown",
      "source": [
        "        4.1) Int"
      ],
      "metadata": {
        "id": "WMhKA_LQWy_y"
      }
    },
    {
      "cell_type": "code",
      "source": [
        "print(int(12.99999))\n",
        "print(int('4623'))\n",
        "print(int(True))\n",
        "print(int(False))"
      ],
      "metadata": {
        "colab": {
          "base_uri": "https://localhost:8080/"
        },
        "id": "e62QN4_CWv5C",
        "outputId": "d77c743e-233b-4efe-cfa5-cb3f3a836c4b"
      },
      "execution_count": null,
      "outputs": [
        {
          "output_type": "stream",
          "name": "stdout",
          "text": [
            "12\n",
            "4623\n",
            "1\n",
            "0\n"
          ]
        }
      ]
    },
    {
      "cell_type": "markdown",
      "source": [
        "    \n",
        "    4.2) Float"
      ],
      "metadata": {
        "id": "S1dMVt0KW6hX"
      }
    },
    {
      "cell_type": "code",
      "source": [
        "\n",
        "print(float(12))\n",
        "print(float('462332'))\n",
        "print(float(True))\n",
        "print(float(False))"
      ],
      "metadata": {
        "colab": {
          "base_uri": "https://localhost:8080/"
        },
        "id": "TS6kdcmGW_5l",
        "outputId": "7ea5454e-dafa-4644-f058-d756f15b3a2a"
      },
      "execution_count": null,
      "outputs": [
        {
          "output_type": "stream",
          "name": "stdout",
          "text": [
            "12.0\n",
            "462332.0\n",
            "1.0\n",
            "0.0\n"
          ]
        }
      ]
    },
    {
      "cell_type": "markdown",
      "source": [
        "    4.3) Boolean"
      ],
      "metadata": {
        "id": "6OcUaEXmXDRz"
      }
    },
    {
      "cell_type": "code",
      "source": [
        "\n",
        "print(bool(0))\n",
        "print(bool(0.0))\n",
        "print(bool(' '))"
      ],
      "metadata": {
        "colab": {
          "base_uri": "https://localhost:8080/"
        },
        "id": "hA3_N5cTXFeC",
        "outputId": "b3b33c19-c83b-4f78-d560-5a90b2848d22"
      },
      "execution_count": null,
      "outputs": [
        {
          "output_type": "stream",
          "name": "stdout",
          "text": [
            "False\n",
            "False\n",
            "True\n"
          ]
        }
      ]
    },
    {
      "cell_type": "markdown",
      "source": [
        "    4.4) String"
      ],
      "metadata": {
        "id": "RYMt20wOXL_m"
      }
    },
    {
      "cell_type": "code",
      "source": [
        "print(Str(12))\n",
        "print(Str('462332'))\n",
        "print(Str(True))\n",
        "print(Str(False))"
      ],
      "metadata": {
        "colab": {
          "base_uri": "https://localhost:8080/",
          "height": 193
        },
        "id": "y-H5VTjbXReS",
        "outputId": "b7c03615-2e0a-4bc5-fcbe-20c4c0e79f5f"
      },
      "execution_count": null,
      "outputs": [
        {
          "output_type": "error",
          "ename": "NameError",
          "evalue": "name 'Str' is not defined",
          "traceback": [
            "\u001b[0;31m---------------------------------------------------------------------------\u001b[0m",
            "\u001b[0;31mNameError\u001b[0m                                 Traceback (most recent call last)",
            "\u001b[0;32m<ipython-input-48-65516f3a34b0>\u001b[0m in \u001b[0;36m<cell line: 0>\u001b[0;34m()\u001b[0m\n\u001b[0;32m----> 1\u001b[0;31m \u001b[0mprint\u001b[0m\u001b[0;34m(\u001b[0m\u001b[0mStr\u001b[0m\u001b[0;34m(\u001b[0m\u001b[0;36m12\u001b[0m\u001b[0;34m)\u001b[0m\u001b[0;34m)\u001b[0m\u001b[0;34m\u001b[0m\u001b[0;34m\u001b[0m\u001b[0m\n\u001b[0m\u001b[1;32m      2\u001b[0m \u001b[0mprint\u001b[0m\u001b[0;34m(\u001b[0m\u001b[0mStr\u001b[0m\u001b[0;34m(\u001b[0m\u001b[0;34m'462332'\u001b[0m\u001b[0;34m)\u001b[0m\u001b[0;34m)\u001b[0m\u001b[0;34m\u001b[0m\u001b[0;34m\u001b[0m\u001b[0m\n\u001b[1;32m      3\u001b[0m \u001b[0mprint\u001b[0m\u001b[0;34m(\u001b[0m\u001b[0mStr\u001b[0m\u001b[0;34m(\u001b[0m\u001b[0;32mTrue\u001b[0m\u001b[0;34m)\u001b[0m\u001b[0;34m)\u001b[0m\u001b[0;34m\u001b[0m\u001b[0;34m\u001b[0m\u001b[0m\n\u001b[1;32m      4\u001b[0m \u001b[0mprint\u001b[0m\u001b[0;34m(\u001b[0m\u001b[0mStr\u001b[0m\u001b[0;34m(\u001b[0m\u001b[0;32mFalse\u001b[0m\u001b[0;34m)\u001b[0m\u001b[0;34m)\u001b[0m\u001b[0;34m\u001b[0m\u001b[0;34m\u001b[0m\u001b[0m\n",
            "\u001b[0;31mNameError\u001b[0m: name 'Str' is not defined"
          ]
        }
      ]
    },
    {
      "cell_type": "markdown",
      "source": [
        "print \"123\""
      ],
      "metadata": {
        "id": "pgOe-DEsbc8C"
      }
    },
    {
      "cell_type": "code",
      "source": [
        "a=1\n",
        "b=2\n",
        "c=3\n",
        "print(int(str(a) + str(b) + str(c)))"
      ],
      "metadata": {
        "colab": {
          "base_uri": "https://localhost:8080/"
        },
        "id": "fWwq-geHbb2j",
        "outputId": "6edcb80e-f061-4a0e-bf29-91c04102d78e"
      },
      "execution_count": null,
      "outputs": [
        {
          "output_type": "stream",
          "name": "stdout",
          "text": [
            "123\n"
          ]
        }
      ]
    },
    {
      "cell_type": "markdown",
      "source": [
        "5. Conditionals"
      ],
      "metadata": {
        "id": "sinCKvXKb04I"
      }
    },
    {
      "cell_type": "code",
      "source": [
        "n=36\n",
        "\n",
        "if (n%5==0 and n%7==0):\n",
        "    print('Dividible')\n",
        "else:\n",
        "    print('Not Dividible')"
      ],
      "metadata": {
        "colab": {
          "base_uri": "https://localhost:8080/"
        },
        "id": "fUUnJb88b-fN",
        "outputId": "436feb9f-b496-4934-e5a0-101516e0bef5"
      },
      "execution_count": null,
      "outputs": [
        {
          "output_type": "stream",
          "name": "stdout",
          "text": [
            "Not Dividible\n"
          ]
        }
      ]
    },
    {
      "cell_type": "markdown",
      "source": [
        "NUmber is even or odd"
      ],
      "metadata": {
        "id": "e5JO1lg5d9O1"
      }
    },
    {
      "cell_type": "code",
      "source": [
        "N=54\n",
        "\n",
        "if (n%2==0):\n",
        "  print(\"Even\")\n",
        "else:\n",
        "  print(\"odd\")"
      ],
      "metadata": {
        "colab": {
          "base_uri": "https://localhost:8080/"
        },
        "id": "lmkda8rTedVs",
        "outputId": "5671a8d4-03c8-4054-9ba9-6cfbe0e94302"
      },
      "execution_count": null,
      "outputs": [
        {
          "output_type": "stream",
          "name": "stdout",
          "text": [
            "Even\n"
          ]
        }
      ]
    },
    {
      "cell_type": "markdown",
      "source": [
        "Number is devisible bt 5&7 but not 9 and must be off betwe\\en(0,100)\n"
      ],
      "metadata": {
        "id": "PJDLQT7Ieq9O"
      }
    },
    {
      "cell_type": "code",
      "source": [
        "n=35\n",
        "p1=5\n",
        "p2=7\n",
        "p3=9\n",
        "if((n%p1==0) and (n%p2==0) and not(n%p3==0) and (n>=0 and n<=100)):\n",
        "  print(\"true\")\n",
        "else:\n",
        "  print(\"False\")"
      ],
      "metadata": {
        "colab": {
          "base_uri": "https://localhost:8080/"
        },
        "id": "FSt1-VJKe2KV",
        "outputId": "06585114-f012-4c58-bbc7-65c42f170142"
      },
      "execution_count": null,
      "outputs": [
        {
          "output_type": "stream",
          "name": "stdout",
          "text": [
            "true\n"
          ]
        }
      ]
    },
    {
      "cell_type": "markdown",
      "source": [
        "Number is devisible by either 5&7 but not 9 and must be off betwe\\en(0,100)"
      ],
      "metadata": {
        "id": "mNpO0_TIhdFq"
      }
    },
    {
      "cell_type": "code",
      "source": [
        "n= int(input(\"enter the number: \"))\n",
        "p1=5\n",
        "p2=7\n",
        "p3=9\n",
        "if(((n%p1==0) or (n%p2==0)) and (n%p3!=0) and (n>=0 and n<=100)):\n",
        "  print(\"true\")\n",
        "else:\n",
        "  print(\"False\")"
      ],
      "metadata": {
        "colab": {
          "base_uri": "https://localhost:8080/"
        },
        "id": "3vtIIAYGiGNn",
        "outputId": "4ec6f612-cc54-4186-fb1d-b20043ca9f34"
      },
      "execution_count": null,
      "outputs": [
        {
          "output_type": "stream",
          "name": "stdout",
          "text": [
            "enter the number: 35\n",
            "true\n"
          ]
        }
      ]
    },
    {
      "cell_type": "markdown",
      "source": [
        " 5_1 elif"
      ],
      "metadata": {
        "id": "nuiMZSrjjj-K"
      }
    },
    {
      "cell_type": "code",
      "source": [
        "n=45\n",
        "if (n<=1000 and n>=0):\n",
        "  if n%5==0 and n%7==0 and n%9==0:\n",
        "    print(\"5 - 7 - 9\")\n",
        "  elif n%5==0 and n%7==0 and n%9!=0:\n",
        "    print(\"5 - 7 - not 9\")\n",
        "  elif n%5==0 and n%9==0 and n%7!=0:\n",
        "    print(\"5 - not7 - 9\")\n",
        "  elif(n%7==0 and n%9==0 and n%5!=0):\n",
        "    print(\"not 5 - 7 - 9\")\n",
        "  elif(n%5==0 and n%7!=0 and n%9!=0):\n",
        "    print(\"5 - not7 - not9 \")\n",
        "  elif(n%7==0 and n%5!=0 and n%9!=0):\n",
        "    print(\"not5 - 7 - not9\")\n",
        "  elif(n%9==0 and n%5!=0 and n%7!=0):\n",
        "    print(\"not5 -not7 - 9\")\n",
        "  else:\n",
        "      print(\"Invalid\")\n",
        "else:\n",
        "    print(\"Not in range\")"
      ],
      "metadata": {
        "colab": {
          "base_uri": "https://localhost:8080/"
        },
        "id": "gxbSSdfXjK6c",
        "outputId": "c367d838-7aee-4ab2-ec0a-3b16747d1f9c"
      },
      "execution_count": null,
      "outputs": [
        {
          "output_type": "stream",
          "name": "stdout",
          "text": [
            "5 - not7 - 9\n"
          ]
        }
      ]
    },
    {
      "cell_type": "markdown",
      "source": [
        "###6. Loop\n"
      ],
      "metadata": {
        "id": "hgyE3A88Tcdw"
      }
    },
    {
      "cell_type": "code",
      "source": [
        "n= int(input(\"enter the number: \"))\n",
        "for i in range (1,11):\n",
        "  print (n,\"*\",i,\"=\", n*i)\n",
        "\n"
      ],
      "metadata": {
        "colab": {
          "base_uri": "https://localhost:8080/"
        },
        "id": "v2zgySjtTgk-",
        "outputId": "1e41b05d-61ce-4054-b268-32c86846fde7"
      },
      "execution_count": null,
      "outputs": [
        {
          "output_type": "stream",
          "name": "stdout",
          "text": [
            "enter the number: 5\n",
            "5 * 1 = 5\n",
            "5 * 2 = 10\n",
            "5 * 3 = 15\n",
            "5 * 4 = 20\n",
            "5 * 5 = 25\n",
            "5 * 6 = 30\n",
            "5 * 7 = 35\n",
            "5 * 8 = 40\n",
            "5 * 9 = 45\n",
            "5 * 10 = 50\n"
          ]
        }
      ]
    },
    {
      "cell_type": "markdown",
      "source": [
        "###6.1 table"
      ],
      "metadata": {
        "id": "jHIMzhfKaAT-"
      }
    },
    {
      "cell_type": "code",
      "source": [
        "n=5\n",
        "\n",
        "\n",
        "for i in range(n,n*10+1,n):\n",
        "  print(i)\n"
      ],
      "metadata": {
        "colab": {
          "base_uri": "https://localhost:8080/"
        },
        "id": "vaRtp1CSYsB0",
        "outputId": "b02bb284-67a8-4782-ca04-28c533e5e029"
      },
      "execution_count": null,
      "outputs": [
        {
          "output_type": "stream",
          "name": "stdout",
          "text": [
            "5\n",
            "10\n",
            "15\n",
            "20\n",
            "25\n",
            "30\n",
            "35\n",
            "40\n",
            "45\n",
            "50\n"
          ]
        }
      ]
    },
    {
      "cell_type": "markdown",
      "source": [],
      "metadata": {
        "id": "OG2K4LpjaEwD"
      }
    },
    {
      "cell_type": "markdown",
      "source": [
        "###6.2 revers table\n",
        "\n"
      ],
      "metadata": {
        "id": "rzm8c04gaDL4"
      }
    },
    {
      "cell_type": "code",
      "source": [
        "n=5\n",
        "\n",
        "for i in range(n*10,n-1,-n):\n",
        "  print(i)\n"
      ],
      "metadata": {
        "colab": {
          "base_uri": "https://localhost:8080/"
        },
        "id": "8Rp45lcmZQ1a",
        "outputId": "af21cd18-350d-4de2-e86c-4e76b524585c"
      },
      "execution_count": null,
      "outputs": [
        {
          "output_type": "stream",
          "name": "stdout",
          "text": [
            "50\n",
            "45\n",
            "40\n",
            "35\n",
            "30\n",
            "25\n",
            "20\n",
            "15\n",
            "10\n",
            "5\n"
          ]
        }
      ]
    },
    {
      "cell_type": "markdown",
      "source": [
        "Find the sum of first 1000 natural number"
      ],
      "metadata": {
        "id": "Fo7_9vxteFR5"
      }
    },
    {
      "cell_type": "code",
      "source": [
        "n=0\n",
        "for i in range(0,1001):\n",
        "  n = n+i\n",
        "print(n)"
      ],
      "metadata": {
        "colab": {
          "base_uri": "https://localhost:8080/"
        },
        "id": "GeyhC-0NdQjd",
        "outputId": "42ab604a-f075-40ac-fc49-de28901c55c1"
      },
      "execution_count": null,
      "outputs": [
        {
          "output_type": "stream",
          "name": "stdout",
          "text": [
            "500500\n"
          ]
        }
      ]
    },
    {
      "cell_type": "markdown",
      "source": [
        "find the no. between 1 - 100 divisible by 5 & 7"
      ],
      "metadata": {
        "id": "rXMBcIoNcrTy"
      }
    },
    {
      "cell_type": "code",
      "source": [
        "for i in range(1,101):\n",
        "  if (i%5==0 and i%7==0):\n",
        "    print(i)\n"
      ],
      "metadata": {
        "colab": {
          "base_uri": "https://localhost:8080/"
        },
        "id": "2O7xTYnfc0OC",
        "outputId": "009d81f8-b801-450f-c37f-13e92bb587e3"
      },
      "execution_count": null,
      "outputs": [
        {
          "output_type": "stream",
          "name": "stdout",
          "text": [
            "35\n",
            "70\n"
          ]
        }
      ]
    },
    {
      "cell_type": "markdown",
      "source": [
        "Prime no."
      ],
      "metadata": {
        "id": "-C8xWxfhgsoT"
      }
    },
    {
      "cell_type": "code",
      "source": [
        "n= int(input(\"Enter the no. :\"))\n",
        "p=0\n",
        "for i in range(2,n):\n",
        " if (n%i==0):\n",
        "  p=p+1\n",
        "  break;\n",
        "\n",
        "if (p>0):\n",
        "  print(\"Not Prime\")\n",
        "else:\n",
        "  print(\"Prime\")"
      ],
      "metadata": {
        "colab": {
          "base_uri": "https://localhost:8080/"
        },
        "id": "ulirHS3wYrlv",
        "outputId": "36a66b9c-3726-449a-873f-9a0909e85086"
      },
      "execution_count": null,
      "outputs": [
        {
          "output_type": "stream",
          "name": "stdout",
          "text": [
            "Enter the no. :88\n",
            "2\n",
            "Not Prime\n"
          ]
        }
      ]
    },
    {
      "cell_type": "markdown",
      "source": [
        "Palindrom"
      ],
      "metadata": {
        "id": "nYn55tSOh331"
      }
    },
    {
      "cell_type": "code",
      "source": [
        "n= int(input(\"Enter the no. :\"))\n",
        "rev=0\n",
        "n1=n\n",
        "for i in range (len(str(n)),0,-1):\n",
        "  rev=rev*10 + (n1%10)\n",
        "  n1=int(n1/10)\n",
        "\n",
        "if rev == n:\n",
        "  print(\"Palindrom\")\n",
        "else:\n",
        "  print(\"Not Palindrom\")\n",
        "\n",
        "\n",
        "\n"
      ],
      "metadata": {
        "colab": {
          "base_uri": "https://localhost:8080/"
        },
        "id": "G66oRSSsgw6S",
        "outputId": "a12bbd71-0e8d-48b8-9972-99fe154ece0b"
      },
      "execution_count": null,
      "outputs": [
        {
          "output_type": "stream",
          "name": "stdout",
          "text": [
            "Enter the no. :85858\n",
            "Palindrom\n"
          ]
        }
      ]
    },
    {
      "cell_type": "markdown",
      "source": [],
      "metadata": {
        "id": "V5iSMD_-gwVG"
      }
    },
    {
      "cell_type": "markdown",
      "source": [
        "prime no between 0-1000"
      ],
      "metadata": {
        "id": "TyDWyXlTo-xf"
      }
    },
    {
      "cell_type": "code",
      "source": [
        "for j in range (2,101):\n",
        "  isPrime= True\n",
        "  for i in range(2,j):\n",
        "    if (j%i==0):\n",
        "     isPrime= False\n",
        "     break;\n",
        "  if isPrime:\n",
        "    print(j)\n"
      ],
      "metadata": {
        "colab": {
          "base_uri": "https://localhost:8080/"
        },
        "id": "3h8ESUadXtDj",
        "outputId": "8c737ddc-d60b-4b29-bc8e-d829d03206e1"
      },
      "execution_count": 1,
      "outputs": [
        {
          "output_type": "stream",
          "name": "stdout",
          "text": [
            "2\n",
            "3\n",
            "5\n",
            "7\n",
            "11\n",
            "13\n",
            "17\n",
            "19\n",
            "23\n",
            "29\n",
            "31\n",
            "37\n",
            "41\n",
            "43\n",
            "47\n",
            "53\n",
            "59\n",
            "61\n",
            "67\n",
            "71\n",
            "73\n",
            "79\n",
            "83\n",
            "89\n",
            "97\n"
          ]
        }
      ]
    },
    {
      "cell_type": "code",
      "source": [
        "for i in range(1 ,7):\n",
        "  for j in range (1,7):\n",
        "    if (i+j == 5):\n",
        "      print (i,j)"
      ],
      "metadata": {
        "id": "VVSmFIIrmMOa"
      },
      "execution_count": null,
      "outputs": []
    },
    {
      "cell_type": "code",
      "source": [
        "n=int(input(\"Enter the no. :\"))\n",
        "num=0\n",
        "for i in range(1 ,7):\n",
        "  for j in range (1,7):\n",
        "    if (i+j == n):\n",
        "      num=num+1\n",
        "\n",
        "print (round((num/36)*100,2),\"%\")"
      ],
      "metadata": {
        "colab": {
          "base_uri": "https://localhost:8080/"
        },
        "id": "KttxuW4MhlbE",
        "outputId": "74858353-6691-4f32-e485-355edddbd7f7"
      },
      "execution_count": null,
      "outputs": [
        {
          "output_type": "stream",
          "name": "stdout",
          "text": [
            "Enter the no. :5\n",
            "11.11 %\n"
          ]
        }
      ]
    },
    {
      "cell_type": "code",
      "source": [
        "for k in range (1,19):\n",
        " num=0\n",
        " for l in range (1,7):\n",
        "   for i in range(1 ,7):\n",
        "     for j in range (1,7):\n",
        "        if (i+j+l == k):\n",
        "          num=num+1\n",
        " print(\"probabilty of getting sum\",k,round((num/216)*100,2),\"%\")\n"
      ],
      "metadata": {
        "colab": {
          "base_uri": "https://localhost:8080/"
        },
        "id": "V2cqNHkkoAlj",
        "outputId": "5a61ab38-10cc-4320-d332-aa89e9881bdc"
      },
      "execution_count": null,
      "outputs": [
        {
          "output_type": "stream",
          "name": "stdout",
          "text": [
            "probabilty of getting sum 1 0.0 %\n",
            "probabilty of getting sum 2 0.0 %\n",
            "probabilty of getting sum 3 0.46 %\n",
            "probabilty of getting sum 4 1.39 %\n",
            "probabilty of getting sum 5 2.78 %\n",
            "probabilty of getting sum 6 4.63 %\n",
            "probabilty of getting sum 7 6.94 %\n",
            "probabilty of getting sum 8 9.72 %\n",
            "probabilty of getting sum 9 11.57 %\n",
            "probabilty of getting sum 10 12.5 %\n",
            "probabilty of getting sum 11 12.5 %\n",
            "probabilty of getting sum 12 11.57 %\n",
            "probabilty of getting sum 13 9.72 %\n",
            "probabilty of getting sum 14 6.94 %\n",
            "probabilty of getting sum 15 4.63 %\n",
            "probabilty of getting sum 16 2.78 %\n",
            "probabilty of getting sum 17 1.39 %\n",
            "probabilty of getting sum 18 0.46 %\n"
          ]
        }
      ]
    },
    {
      "cell_type": "code",
      "source": [
        "name =\" Aman S[;-099in98979'';[;'h87;a\"\n",
        "\n",
        "for i in name:\n",
        "  if (i in \"asdfghjklzxcvbnmqwertyuiopQWERTYUIOPASDFGHJKLZXCVBNM \"):\n",
        "    print(i)"
      ],
      "metadata": {
        "colab": {
          "base_uri": "https://localhost:8080/"
        },
        "id": "374Gp-G4sCU6",
        "outputId": "64e1b27d-bcd8-480a-f991-5dd0f7b8b93e"
      },
      "execution_count": null,
      "outputs": [
        {
          "output_type": "stream",
          "name": "stdout",
          "text": [
            " \n",
            "A\n",
            "m\n",
            "a\n",
            "n\n",
            " \n",
            "S\n",
            "i\n",
            "n\n",
            "h\n",
            "a\n"
          ]
        }
      ]
    },
    {
      "cell_type": "code",
      "source": [
        "TEST = \"ASDFGHJKLI'UYTRE461';'lk[]\"\n",
        "NUM_1=0\n",
        "NUM_2=0\n",
        "for i in TEST:\n",
        "  if (i in \"aeiouAIEOU\"):\n",
        "    NUM_1=NUM_1+1\n",
        "  elif (i==' !@#$%^&*()_+=-{}\":?<,./;[]'''):\n",
        "        continue\n",
        "  else:\n",
        "    NUM_2=NUM_2+1\n",
        "\n",
        "print (NUM_1, NUM_2)\n"
      ],
      "metadata": {
        "colab": {
          "base_uri": "https://localhost:8080/"
        },
        "id": "Iqr7BzG4uQQM",
        "outputId": "82b9234e-2d60-4628-d19a-56bfd4967752"
      },
      "execution_count": null,
      "outputs": [
        {
          "output_type": "stream",
          "name": "stdout",
          "text": [
            "4 22\n"
          ]
        }
      ]
    },
    {
      "cell_type": "markdown",
      "source": [
        "###7. Data Structures"
      ],
      "metadata": {
        "id": "1LPRr8ZoVHeH"
      }
    },
    {
      "cell_type": "markdown",
      "source": [
        "#### 7.1 List"
      ],
      "metadata": {
        "id": "jlKVdG4FWGxf"
      }
    },
    {
      "cell_type": "markdown",
      "source": [
        "##### 7.1.1  WAP to create a list with value between 1 -100 and divisible by 2,3,5"
      ],
      "metadata": {
        "id": "KzBI4PSeYEXM"
      }
    },
    {
      "cell_type": "code",
      "source": [
        "lst=[]\n",
        "AVG =0.\n",
        "for i in range (1,101):\n",
        "  if (i%2==0 or i%3==0 or i%5==0):\n",
        "    lst.append(i)\n",
        "\n",
        "print(lst)\n",
        "\n",
        "for i in lst:\n",
        "  AVG = AVG +i\n",
        "\n",
        "print(\"AVG :-\", round(AVG/len(lst),2))"
      ],
      "metadata": {
        "colab": {
          "base_uri": "https://localhost:8080/"
        },
        "id": "Bf2p1kBHYCja",
        "outputId": "680f60d9-0929-4bba-fff5-545d6381b174"
      },
      "execution_count": 10,
      "outputs": [
        {
          "output_type": "stream",
          "name": "stdout",
          "text": [
            "[2, 3, 4, 5, 6, 8, 9, 10, 12, 14, 15, 16, 18, 20, 21, 22, 24, 25, 26, 27, 28, 30, 32, 33, 34, 35, 36, 38, 39, 40, 42, 44, 45, 46, 48, 50, 51, 52, 54, 55, 56, 57, 58, 60, 62, 63, 64, 65, 66, 68, 69, 70, 72, 74, 75, 76, 78, 80, 81, 82, 84, 85, 86, 87, 88, 90, 92, 93, 94, 95, 96, 98, 99, 100]\n",
            "AVG :- 51.11\n"
          ]
        }
      ]
    },
    {
      "cell_type": "markdown",
      "source": [
        "#### 7.1.2 Check if a name is there in a list or not"
      ],
      "metadata": {
        "id": "7e5VWycBcqN6"
      }
    },
    {
      "cell_type": "code",
      "source": [
        "names = [\"James\", \"Mary\", \"Robert\", \"Patricia\", \"John\", \"Jennifer\", \"Michael\", \"Linda\", \"William\", \"Elizabeth\", \"David\", \"Barbara\",\"Aman\"]\n",
        "Flag=0\n",
        "\n",
        "\n",
        "for i in range(0,len(names)):\n",
        "  if (names[i].lower()==\"av\"):\n",
        "    print(\"role no :\", i+1,\"is\",names[i])\n",
        "    Flag=1\n",
        "if Flag==0:\n",
        "  print(\"Not Found\")\n",
        "\n",
        "\n",
        "\n"
      ],
      "metadata": {
        "colab": {
          "base_uri": "https://localhost:8080/"
        },
        "id": "yb03Teopc1QA",
        "outputId": "b3ebc046-03f9-4252-dac7-432c890d2f56"
      },
      "execution_count": 24,
      "outputs": [
        {
          "output_type": "stream",
          "name": "stdout",
          "text": [
            "Not Found\n"
          ]
        }
      ]
    },
    {
      "cell_type": "code",
      "source": [
        "### 7.1.3 Find the sum of all elesment of a list row wise"
      ],
      "metadata": {
        "id": "QR8lgpa_jxaC"
      },
      "execution_count": null,
      "outputs": []
    },
    {
      "cell_type": "code",
      "source": [
        "lst= [ [1,2,3],\n",
        "       [4,5,6],\n",
        "       [7,8,9]]\n",
        "\n",
        "for i in lst:\n",
        "  sum=0\n",
        "  for j in i:\n",
        "    sum=sum+j\n",
        "  print(sum)\n"
      ],
      "metadata": {
        "colab": {
          "base_uri": "https://localhost:8080/"
        },
        "id": "-7cwvznlVNdF",
        "outputId": "34a78e66-ebdf-4291-f836-e1060016c978"
      },
      "execution_count": 42,
      "outputs": [
        {
          "output_type": "stream",
          "name": "stdout",
          "text": [
            "6\n",
            "15\n",
            "24\n"
          ]
        }
      ]
    },
    {
      "cell_type": "markdown",
      "source": [
        "### 7.1.3 Find the sum of all elesment of a list colume wise"
      ],
      "metadata": {
        "id": "VSLkglxyk8KV"
      }
    },
    {
      "cell_type": "code",
      "source": [
        "lst= [ [1,2,3],\n",
        "       [4,5,6],\n",
        "       [7,8,9]]\n",
        "sum=[]\n",
        "for i in lst:\n",
        "  for j in i:\n",
        "    sum[j].append=sum[j]+j\n",
        "print(sum)"
      ],
      "metadata": {
        "colab": {
          "base_uri": "https://localhost:8080/",
          "height": 193
        },
        "id": "d5meFL0Ak_Ut",
        "outputId": "5a0c5194-62f1-4bb3-a7e4-43022263335b"
      },
      "execution_count": 48,
      "outputs": [
        {
          "output_type": "error",
          "ename": "IndexError",
          "evalue": "list index out of range",
          "traceback": [
            "\u001b[0;31m---------------------------------------------------------------------------\u001b[0m",
            "\u001b[0;31mIndexError\u001b[0m                                Traceback (most recent call last)",
            "\u001b[0;32m<ipython-input-48-add930a840be>\u001b[0m in \u001b[0;36m<cell line: 0>\u001b[0;34m()\u001b[0m\n\u001b[1;32m      5\u001b[0m \u001b[0;32mfor\u001b[0m \u001b[0mi\u001b[0m \u001b[0;32min\u001b[0m \u001b[0mlst\u001b[0m\u001b[0;34m:\u001b[0m\u001b[0;34m\u001b[0m\u001b[0;34m\u001b[0m\u001b[0m\n\u001b[1;32m      6\u001b[0m   \u001b[0;32mfor\u001b[0m \u001b[0mj\u001b[0m \u001b[0;32min\u001b[0m \u001b[0mi\u001b[0m\u001b[0;34m:\u001b[0m\u001b[0;34m\u001b[0m\u001b[0;34m\u001b[0m\u001b[0m\n\u001b[0;32m----> 7\u001b[0;31m     \u001b[0msum\u001b[0m\u001b[0;34m[\u001b[0m\u001b[0mj\u001b[0m\u001b[0;34m]\u001b[0m\u001b[0;34m.\u001b[0m\u001b[0mappend\u001b[0m\u001b[0;34m=\u001b[0m\u001b[0msum\u001b[0m\u001b[0;34m[\u001b[0m\u001b[0mj\u001b[0m\u001b[0;34m]\u001b[0m\u001b[0;34m+\u001b[0m\u001b[0mj\u001b[0m\u001b[0;34m\u001b[0m\u001b[0;34m\u001b[0m\u001b[0m\n\u001b[0m\u001b[1;32m      8\u001b[0m \u001b[0mprint\u001b[0m\u001b[0;34m(\u001b[0m\u001b[0msum\u001b[0m\u001b[0;34m)\u001b[0m\u001b[0;34m\u001b[0m\u001b[0;34m\u001b[0m\u001b[0m\n",
            "\u001b[0;31mIndexError\u001b[0m: list index out of range"
          ]
        }
      ]
    },
    {
      "cell_type": "code",
      "source": [
        "lst= [ [1,2,3],\n",
        "       [4,5,6],\n",
        "       [7,8,9]]\n",
        "for j in range(len(lst)):\n",
        "  sum=0\n",
        "  for i in lst:\n",
        "      sum=sum+(i[j])\n",
        "  print(sum)\n"
      ],
      "metadata": {
        "colab": {
          "base_uri": "https://localhost:8080/"
        },
        "id": "VYEpT_AepkrE",
        "outputId": "0fa5d841-e896-4f20-db4f-f52eafb26543"
      },
      "execution_count": 43,
      "outputs": [
        {
          "output_type": "stream",
          "name": "stdout",
          "text": [
            "12\n",
            "15\n",
            "18\n"
          ]
        }
      ]
    }
  ]
}
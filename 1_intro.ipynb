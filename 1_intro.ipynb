{
  "nbformat": 4,
  "nbformat_minor": 0,
  "metadata": {
    "colab": {
      "provenance": [],
      "authorship_tag": "ABX9TyPk2QqTUl7vIwf2+fbwF7b6",
      "include_colab_link": true
    },
    "kernelspec": {
      "name": "python3",
      "display_name": "Python 3"
    },
    "language_info": {
      "name": "python"
    }
  },
  "cells": [
    {
      "cell_type": "markdown",
      "metadata": {
        "id": "view-in-github",
        "colab_type": "text"
      },
      "source": [
        "<a href=\"https://colab.research.google.com/github/amansinha0907/Python/blob/main/1_intro.ipynb\" target=\"_parent\"><img src=\"https://colab.research.google.com/assets/colab-badge.svg\" alt=\"Open In Colab\"/></a>"
      ]
    },
    {
      "cell_type": "markdown",
      "source": [],
      "metadata": {
        "id": "yifJM3IyQl01"
      }
    },
    {
      "cell_type": "markdown",
      "source": [
        "1. print"
      ],
      "metadata": {
        "id": "6Z0rLBwwQvbV"
      }
    },
    {
      "cell_type": "code",
      "source": [
        "print(12)\n",
        "print(12.5)\n",
        "print(\"Ashish Jangra)\")\n",
        "print(True)\n",
        "print()\n",
        "print('--------')\n",
        "\n",
        "print(12, 2.5, True,'AShish')"
      ],
      "metadata": {
        "colab": {
          "base_uri": "https://localhost:8080/"
        },
        "id": "tAb4FASRQleP",
        "outputId": "0e65a62f-f00e-407a-a20a-bce9ff281057"
      },
      "execution_count": null,
      "outputs": [
        {
          "output_type": "stream",
          "name": "stdout",
          "text": [
            "12\n",
            "12.5\n",
            "Ashish Jangra)\n",
            "True\n",
            "\n",
            "--------\n",
            "12 2.5 True AShish\n"
          ]
        }
      ]
    },
    {
      "cell_type": "markdown",
      "source": [
        "  2. type"
      ],
      "metadata": {
        "id": "fuog9306Rjzp"
      }
    },
    {
      "cell_type": "code",
      "source": [
        "print(type(12))\n",
        "print(type(12.5))\n",
        "print(type('12.5'))\n",
        "print(type('Ashish'))\n",
        "print(type(True))\n",
        "print(type('True'))"
      ],
      "metadata": {
        "colab": {
          "base_uri": "https://localhost:8080/"
        },
        "id": "CbeEOhVnR3Gr",
        "outputId": "07440546-fba7-4c53-85ba-1d39fcf0822f"
      },
      "execution_count": null,
      "outputs": [
        {
          "output_type": "stream",
          "name": "stdout",
          "text": [
            "<class 'int'>\n",
            "<class 'float'>\n",
            "<class 'str'>\n",
            "<class 'str'>\n",
            "<class 'bool'>\n",
            "<class 'str'>\n"
          ]
        }
      ]
    },
    {
      "cell_type": "markdown",
      "source": [
        "3. Operators\n",
        "  \n",
        "  3.1) Arithmetic\n"
      ],
      "metadata": {
        "id": "G_Hd1iocR5oy"
      }
    },
    {
      "cell_type": "code",
      "source": [
        "print(12+5)\n",
        "print(12-5)\n",
        "print(12*5)\n",
        "print(12/5)\n",
        "print(12//5)\n",
        "print(12%5)\n",
        "print(12**5)"
      ],
      "metadata": {
        "colab": {
          "base_uri": "https://localhost:8080/"
        },
        "id": "iMKtI8U4SxrP",
        "outputId": "3f4e14df-3ada-47c4-cada-d19a09b42d4d"
      },
      "execution_count": null,
      "outputs": [
        {
          "output_type": "stream",
          "name": "stdout",
          "text": [
            "17\n",
            "7\n",
            "60\n",
            "2.4\n",
            "2\n",
            "2\n",
            "248832\n"
          ]
        }
      ]
    },
    {
      "cell_type": "markdown",
      "source": [
        "      3.1.2) Int - Float\n"
      ],
      "metadata": {
        "id": "OVaGg1PxS0BE"
      }
    },
    {
      "cell_type": "code",
      "source": [
        "print(12+5.2)\n",
        "print(12-5.2)\n",
        "print(12*5.2)\n",
        "print(12/5.2)\n",
        "print(12//5.2)\n",
        "print(12%5.2)\n",
        "print(12**5.2)\n"
      ],
      "metadata": {
        "colab": {
          "base_uri": "https://localhost:8080/"
        },
        "id": "3vCmyEmES58r",
        "outputId": "68c2e650-0280-42bf-a1e6-47751568b6f8"
      },
      "execution_count": null,
      "outputs": [
        {
          "output_type": "stream",
          "name": "stdout",
          "text": [
            "17.2\n",
            "6.8\n",
            "62.400000000000006\n",
            "2.3076923076923075\n",
            "2.0\n",
            "1.5999999999999996\n",
            "409018.0552424305\n"
          ]
        }
      ]
    },
    {
      "cell_type": "markdown",
      "source": [
        "     3.1.3) Int - String\n",
        "     "
      ],
      "metadata": {
        "id": "xim3GBt4WRok"
      }
    },
    {
      "cell_type": "code",
      "source": [
        "print(12*'Ashish')"
      ],
      "metadata": {
        "colab": {
          "base_uri": "https://localhost:8080/"
        },
        "id": "AKDeXMtndUWi",
        "outputId": "679e29c5-5111-4971-caca-2ad10b72ab67"
      },
      "execution_count": null,
      "outputs": [
        {
          "output_type": "stream",
          "name": "stdout",
          "text": [
            "AshishAshishAshishAshishAshishAshishAshishAshishAshishAshishAshishAshish\n"
          ]
        }
      ]
    },
    {
      "cell_type": "markdown",
      "source": [
        "    3.1.4) Int - Boolean\n",
        "    "
      ],
      "metadata": {
        "id": "GL2RHa4udYyL"
      }
    },
    {
      "cell_type": "code",
      "source": [
        "\n",
        "print(12+True)\n",
        "print(12-False)\n",
        "print(12*True)\n",
        "print(12/True)\n",
        "print(12//True)\n",
        "print(12%True)\n",
        "print(12**True)"
      ],
      "metadata": {
        "colab": {
          "base_uri": "https://localhost:8080/"
        },
        "id": "suEguoDgWcTh",
        "outputId": "c4c32ed7-d2c1-4738-bf70-b128cab3cf94"
      },
      "execution_count": null,
      "outputs": [
        {
          "output_type": "stream",
          "name": "stdout",
          "text": [
            "13\n",
            "12\n",
            "12\n",
            "12.0\n",
            "12\n",
            "0\n",
            "12\n"
          ]
        }
      ]
    },
    {
      "cell_type": "markdown",
      "source": [
        "3.2) Comparison"
      ],
      "metadata": {
        "id": "PQ6RNFsideM_"
      }
    },
    {
      "cell_type": "code",
      "source": [
        "print(10>5)\n",
        "print(10<5)\n",
        "print(10==5)\n",
        "print(10!=5)\n",
        "print(5>=5)\n",
        "print(5>5)\n",
        "print(10<=5)"
      ],
      "metadata": {
        "id": "z1-lmHE3WjSf"
      },
      "execution_count": null,
      "outputs": []
    },
    {
      "cell_type": "markdown",
      "source": [
        "3.3) Logical\n"
      ],
      "metadata": {
        "id": "HzLkPc_qWqvp"
      }
    },
    {
      "cell_type": "code",
      "execution_count": null,
      "metadata": {
        "id": "lCGP8lZ9RSdq",
        "colab": {
          "base_uri": "https://localhost:8080/"
        },
        "outputId": "cd48090b-7882-46be-e372-eacdd3388f57"
      },
      "outputs": [
        {
          "output_type": "stream",
          "name": "stdout",
          "text": [
            "True\n",
            "True\n",
            "True\n",
            "False\n"
          ]
        }
      ],
      "source": [
        "age =35\n",
        "\n",
        "print (age%5==0 and age%7==0)\n",
        "print (age%5==0 or age%7==0)\n",
        "print (age%5==0 and age%7==0 and age%9!=0)\n",
        "print (age%5==0 and age%7==0 and age%9!=0 and age%2==0)"
      ]
    },
    {
      "cell_type": "markdown",
      "source": [
        "4. Typecasting\n"
      ],
      "metadata": {
        "id": "oSkYchLHWwNV"
      }
    },
    {
      "cell_type": "markdown",
      "source": [
        "        4.1) Int"
      ],
      "metadata": {
        "id": "WMhKA_LQWy_y"
      }
    },
    {
      "cell_type": "code",
      "source": [
        "print(int(12.99999))\n",
        "print(int('4623'))\n",
        "print(int(True))\n",
        "print(int(False))"
      ],
      "metadata": {
        "colab": {
          "base_uri": "https://localhost:8080/"
        },
        "id": "e62QN4_CWv5C",
        "outputId": "d77c743e-233b-4efe-cfa5-cb3f3a836c4b"
      },
      "execution_count": null,
      "outputs": [
        {
          "output_type": "stream",
          "name": "stdout",
          "text": [
            "12\n",
            "4623\n",
            "1\n",
            "0\n"
          ]
        }
      ]
    },
    {
      "cell_type": "markdown",
      "source": [
        "    \n",
        "    4.2) Float"
      ],
      "metadata": {
        "id": "S1dMVt0KW6hX"
      }
    },
    {
      "cell_type": "code",
      "source": [
        "\n",
        "print(float(12))\n",
        "print(float('462332'))\n",
        "print(float(True))\n",
        "print(float(False))"
      ],
      "metadata": {
        "colab": {
          "base_uri": "https://localhost:8080/"
        },
        "id": "TS6kdcmGW_5l",
        "outputId": "7ea5454e-dafa-4644-f058-d756f15b3a2a"
      },
      "execution_count": null,
      "outputs": [
        {
          "output_type": "stream",
          "name": "stdout",
          "text": [
            "12.0\n",
            "462332.0\n",
            "1.0\n",
            "0.0\n"
          ]
        }
      ]
    },
    {
      "cell_type": "markdown",
      "source": [
        "    4.3) Boolean"
      ],
      "metadata": {
        "id": "6OcUaEXmXDRz"
      }
    },
    {
      "cell_type": "code",
      "source": [
        "\n",
        "print(bool(0))\n",
        "print(bool(0.0))\n",
        "print(bool(' '))"
      ],
      "metadata": {
        "colab": {
          "base_uri": "https://localhost:8080/"
        },
        "id": "hA3_N5cTXFeC",
        "outputId": "b3b33c19-c83b-4f78-d560-5a90b2848d22"
      },
      "execution_count": null,
      "outputs": [
        {
          "output_type": "stream",
          "name": "stdout",
          "text": [
            "False\n",
            "False\n",
            "True\n"
          ]
        }
      ]
    },
    {
      "cell_type": "markdown",
      "source": [
        "    4.4) String"
      ],
      "metadata": {
        "id": "RYMt20wOXL_m"
      }
    },
    {
      "cell_type": "code",
      "source": [
        "print(Str(12))\n",
        "print(Str('462332'))\n",
        "print(Str(True))\n",
        "print(Str(False))"
      ],
      "metadata": {
        "colab": {
          "base_uri": "https://localhost:8080/",
          "height": 193
        },
        "id": "y-H5VTjbXReS",
        "outputId": "b7c03615-2e0a-4bc5-fcbe-20c4c0e79f5f"
      },
      "execution_count": null,
      "outputs": [
        {
          "output_type": "error",
          "ename": "NameError",
          "evalue": "name 'Str' is not defined",
          "traceback": [
            "\u001b[0;31m---------------------------------------------------------------------------\u001b[0m",
            "\u001b[0;31mNameError\u001b[0m                                 Traceback (most recent call last)",
            "\u001b[0;32m<ipython-input-48-65516f3a34b0>\u001b[0m in \u001b[0;36m<cell line: 0>\u001b[0;34m()\u001b[0m\n\u001b[0;32m----> 1\u001b[0;31m \u001b[0mprint\u001b[0m\u001b[0;34m(\u001b[0m\u001b[0mStr\u001b[0m\u001b[0;34m(\u001b[0m\u001b[0;36m12\u001b[0m\u001b[0;34m)\u001b[0m\u001b[0;34m)\u001b[0m\u001b[0;34m\u001b[0m\u001b[0;34m\u001b[0m\u001b[0m\n\u001b[0m\u001b[1;32m      2\u001b[0m \u001b[0mprint\u001b[0m\u001b[0;34m(\u001b[0m\u001b[0mStr\u001b[0m\u001b[0;34m(\u001b[0m\u001b[0;34m'462332'\u001b[0m\u001b[0;34m)\u001b[0m\u001b[0;34m)\u001b[0m\u001b[0;34m\u001b[0m\u001b[0;34m\u001b[0m\u001b[0m\n\u001b[1;32m      3\u001b[0m \u001b[0mprint\u001b[0m\u001b[0;34m(\u001b[0m\u001b[0mStr\u001b[0m\u001b[0;34m(\u001b[0m\u001b[0;32mTrue\u001b[0m\u001b[0;34m)\u001b[0m\u001b[0;34m)\u001b[0m\u001b[0;34m\u001b[0m\u001b[0;34m\u001b[0m\u001b[0m\n\u001b[1;32m      4\u001b[0m \u001b[0mprint\u001b[0m\u001b[0;34m(\u001b[0m\u001b[0mStr\u001b[0m\u001b[0;34m(\u001b[0m\u001b[0;32mFalse\u001b[0m\u001b[0;34m)\u001b[0m\u001b[0;34m)\u001b[0m\u001b[0;34m\u001b[0m\u001b[0;34m\u001b[0m\u001b[0m\n",
            "\u001b[0;31mNameError\u001b[0m: name 'Str' is not defined"
          ]
        }
      ]
    },
    {
      "cell_type": "markdown",
      "source": [
        "print \"123\""
      ],
      "metadata": {
        "id": "pgOe-DEsbc8C"
      }
    },
    {
      "cell_type": "code",
      "source": [
        "a=1\n",
        "b=2\n",
        "c=3\n",
        "print(int(str(a) + str(b) + str(c)))"
      ],
      "metadata": {
        "colab": {
          "base_uri": "https://localhost:8080/"
        },
        "id": "fWwq-geHbb2j",
        "outputId": "6edcb80e-f061-4a0e-bf29-91c04102d78e"
      },
      "execution_count": null,
      "outputs": [
        {
          "output_type": "stream",
          "name": "stdout",
          "text": [
            "123\n"
          ]
        }
      ]
    },
    {
      "cell_type": "markdown",
      "source": [
        "5. Conditionals"
      ],
      "metadata": {
        "id": "sinCKvXKb04I"
      }
    },
    {
      "cell_type": "code",
      "source": [
        "n=36\n",
        "\n",
        "if (n%5==0 and n%7==0):\n",
        "    print('Dividible')\n",
        "else:\n",
        "    print('Not Dividible')"
      ],
      "metadata": {
        "colab": {
          "base_uri": "https://localhost:8080/"
        },
        "id": "fUUnJb88b-fN",
        "outputId": "436feb9f-b496-4934-e5a0-101516e0bef5"
      },
      "execution_count": null,
      "outputs": [
        {
          "output_type": "stream",
          "name": "stdout",
          "text": [
            "Not Dividible\n"
          ]
        }
      ]
    },
    {
      "cell_type": "markdown",
      "source": [
        "NUmber is even or odd"
      ],
      "metadata": {
        "id": "e5JO1lg5d9O1"
      }
    },
    {
      "cell_type": "code",
      "source": [
        "N=54\n",
        "\n",
        "if (n%2==0):\n",
        "  print(\"Even\")\n",
        "else:\n",
        "  print(\"odd\")"
      ],
      "metadata": {
        "colab": {
          "base_uri": "https://localhost:8080/"
        },
        "id": "lmkda8rTedVs",
        "outputId": "5671a8d4-03c8-4054-9ba9-6cfbe0e94302"
      },
      "execution_count": null,
      "outputs": [
        {
          "output_type": "stream",
          "name": "stdout",
          "text": [
            "Even\n"
          ]
        }
      ]
    },
    {
      "cell_type": "markdown",
      "source": [
        "Number is devisible bt 5&7 but not 9 and must be off betwe\\en(0,100)\n"
      ],
      "metadata": {
        "id": "PJDLQT7Ieq9O"
      }
    },
    {
      "cell_type": "code",
      "source": [
        "n=35\n",
        "p1=5\n",
        "p2=7\n",
        "p3=9\n",
        "if((n%p1==0) and (n%p2==0) and not(n%p3==0) and (n>=0 and n<=100)):\n",
        "  print(\"true\")\n",
        "else:\n",
        "  print(\"False\")"
      ],
      "metadata": {
        "colab": {
          "base_uri": "https://localhost:8080/"
        },
        "id": "FSt1-VJKe2KV",
        "outputId": "06585114-f012-4c58-bbc7-65c42f170142"
      },
      "execution_count": null,
      "outputs": [
        {
          "output_type": "stream",
          "name": "stdout",
          "text": [
            "true\n"
          ]
        }
      ]
    },
    {
      "cell_type": "markdown",
      "source": [
        "Number is devisible by either 5&7 but not 9 and must be off betwe\\en(0,100)"
      ],
      "metadata": {
        "id": "mNpO0_TIhdFq"
      }
    },
    {
      "cell_type": "code",
      "source": [
        "n= int(input(\"enter the number: \"))\n",
        "p1=5\n",
        "p2=7\n",
        "p3=9\n",
        "if(((n%p1==0) or (n%p2==0)) and (n%p3!=0) and (n>=0 and n<=100)):\n",
        "  print(\"true\")\n",
        "else:\n",
        "  print(\"False\")"
      ],
      "metadata": {
        "colab": {
          "base_uri": "https://localhost:8080/"
        },
        "id": "3vtIIAYGiGNn",
        "outputId": "4ec6f612-cc54-4186-fb1d-b20043ca9f34"
      },
      "execution_count": null,
      "outputs": [
        {
          "output_type": "stream",
          "name": "stdout",
          "text": [
            "enter the number: 35\n",
            "true\n"
          ]
        }
      ]
    },
    {
      "cell_type": "markdown",
      "source": [
        " 5_1 elif"
      ],
      "metadata": {
        "id": "nuiMZSrjjj-K"
      }
    },
    {
      "cell_type": "code",
      "source": [
        "n=45\n",
        "if (n<=1000 and n>=0):\n",
        "  if n%5==0 and n%7==0 and n%9==0:\n",
        "    print(\"5 - 7 - 9\")\n",
        "  elif n%5==0 and n%7==0 and n%9!=0:\n",
        "    print(\"5 - 7 - not 9\")\n",
        "  elif n%5==0 and n%9==0 and n%7!=0:\n",
        "    print(\"5 - not7 - 9\")\n",
        "  elif(n%7==0 and n%9==0 and n%5!=0):\n",
        "    print(\"not 5 - 7 - 9\")\n",
        "  elif(n%5==0 and n%7!=0 and n%9!=0):\n",
        "    print(\"5 - not7 - not9 \")\n",
        "  elif(n%7==0 and n%5!=0 and n%9!=0):\n",
        "    print(\"not5 - 7 - not9\")\n",
        "  elif(n%9==0 and n%5!=0 and n%7!=0):\n",
        "    print(\"not5 -not7 - 9\")\n",
        "  else:\n",
        "      print(\"Invalid\")\n",
        "else:\n",
        "    print(\"Not in range\")"
      ],
      "metadata": {
        "colab": {
          "base_uri": "https://localhost:8080/"
        },
        "id": "gxbSSdfXjK6c",
        "outputId": "c367d838-7aee-4ab2-ec0a-3b16747d1f9c"
      },
      "execution_count": null,
      "outputs": [
        {
          "output_type": "stream",
          "name": "stdout",
          "text": [
            "5 - not7 - 9\n"
          ]
        }
      ]
    },
    {
      "cell_type": "markdown",
      "source": [
        "###6. Loop\n"
      ],
      "metadata": {
        "id": "hgyE3A88Tcdw"
      }
    },
    {
      "cell_type": "code",
      "source": [
        "n= int(input(\"enter the number: \"))\n",
        "for i in range (1,11):\n",
        "  print (n,\"*\",i,\"=\", n*i)\n",
        "\n"
      ],
      "metadata": {
        "colab": {
          "base_uri": "https://localhost:8080/"
        },
        "id": "v2zgySjtTgk-",
        "outputId": "1e41b05d-61ce-4054-b268-32c86846fde7"
      },
      "execution_count": null,
      "outputs": [
        {
          "output_type": "stream",
          "name": "stdout",
          "text": [
            "enter the number: 5\n",
            "5 * 1 = 5\n",
            "5 * 2 = 10\n",
            "5 * 3 = 15\n",
            "5 * 4 = 20\n",
            "5 * 5 = 25\n",
            "5 * 6 = 30\n",
            "5 * 7 = 35\n",
            "5 * 8 = 40\n",
            "5 * 9 = 45\n",
            "5 * 10 = 50\n"
          ]
        }
      ]
    },
    {
      "cell_type": "markdown",
      "source": [
        "###6.1 table"
      ],
      "metadata": {
        "id": "jHIMzhfKaAT-"
      }
    },
    {
      "cell_type": "code",
      "source": [
        "n=5\n",
        "\n",
        "\n",
        "for i in range(n,n*10+1,n):\n",
        "  print(i)\n"
      ],
      "metadata": {
        "colab": {
          "base_uri": "https://localhost:8080/"
        },
        "id": "vaRtp1CSYsB0",
        "outputId": "b02bb284-67a8-4782-ca04-28c533e5e029"
      },
      "execution_count": null,
      "outputs": [
        {
          "output_type": "stream",
          "name": "stdout",
          "text": [
            "5\n",
            "10\n",
            "15\n",
            "20\n",
            "25\n",
            "30\n",
            "35\n",
            "40\n",
            "45\n",
            "50\n"
          ]
        }
      ]
    },
    {
      "cell_type": "markdown",
      "source": [],
      "metadata": {
        "id": "OG2K4LpjaEwD"
      }
    },
    {
      "cell_type": "markdown",
      "source": [
        "###6.2 revers table\n",
        "\n"
      ],
      "metadata": {
        "id": "rzm8c04gaDL4"
      }
    },
    {
      "cell_type": "code",
      "source": [
        "n=5\n",
        "\n",
        "for i in range(n*10,n-1,-n):\n",
        "  print(i)\n"
      ],
      "metadata": {
        "colab": {
          "base_uri": "https://localhost:8080/"
        },
        "id": "8Rp45lcmZQ1a",
        "outputId": "af21cd18-350d-4de2-e86c-4e76b524585c"
      },
      "execution_count": null,
      "outputs": [
        {
          "output_type": "stream",
          "name": "stdout",
          "text": [
            "50\n",
            "45\n",
            "40\n",
            "35\n",
            "30\n",
            "25\n",
            "20\n",
            "15\n",
            "10\n",
            "5\n"
          ]
        }
      ]
    },
    {
      "cell_type": "markdown",
      "source": [
        "Find the sum of first 1000 natural number"
      ],
      "metadata": {
        "id": "Fo7_9vxteFR5"
      }
    },
    {
      "cell_type": "code",
      "source": [
        "n=0\n",
        "for i in range(0,1001):\n",
        "  n = n+i\n",
        "print(n)"
      ],
      "metadata": {
        "colab": {
          "base_uri": "https://localhost:8080/"
        },
        "id": "GeyhC-0NdQjd",
        "outputId": "42ab604a-f075-40ac-fc49-de28901c55c1"
      },
      "execution_count": null,
      "outputs": [
        {
          "output_type": "stream",
          "name": "stdout",
          "text": [
            "500500\n"
          ]
        }
      ]
    },
    {
      "cell_type": "markdown",
      "source": [
        "find the no. between 1 - 100 divisible by 5 & 7"
      ],
      "metadata": {
        "id": "rXMBcIoNcrTy"
      }
    },
    {
      "cell_type": "code",
      "source": [
        "for i in range(1,101):\n",
        "  if (i%5==0 and i%7==0):\n",
        "    print(i)\n"
      ],
      "metadata": {
        "colab": {
          "base_uri": "https://localhost:8080/"
        },
        "id": "2O7xTYnfc0OC",
        "outputId": "009d81f8-b801-450f-c37f-13e92bb587e3"
      },
      "execution_count": null,
      "outputs": [
        {
          "output_type": "stream",
          "name": "stdout",
          "text": [
            "35\n",
            "70\n"
          ]
        }
      ]
    },
    {
      "cell_type": "markdown",
      "source": [
        "Prime no."
      ],
      "metadata": {
        "id": "-C8xWxfhgsoT"
      }
    },
    {
      "cell_type": "code",
      "source": [
        "n= int(input(\"Enter the no. :\"))\n",
        "p=0\n",
        "for i in range(2,n):\n",
        " if (n%i==0):\n",
        "  p=p+1\n",
        "  break;\n",
        "\n",
        "if (p>0):\n",
        "  print(\"Not Prime\")\n",
        "else:\n",
        "  print(\"Prime\")"
      ],
      "metadata": {
        "colab": {
          "base_uri": "https://localhost:8080/"
        },
        "id": "ulirHS3wYrlv",
        "outputId": "36a66b9c-3726-449a-873f-9a0909e85086"
      },
      "execution_count": 11,
      "outputs": [
        {
          "output_type": "stream",
          "name": "stdout",
          "text": [
            "Enter the no. :88\n",
            "2\n",
            "Not Prime\n"
          ]
        }
      ]
    },
    {
      "cell_type": "markdown",
      "source": [
        "Palindrom"
      ],
      "metadata": {
        "id": "nYn55tSOh331"
      }
    },
    {
      "cell_type": "code",
      "source": [
        "n= int(input(\"Enter the no. :\"))\n",
        "rev=0\n",
        "n1=n\n",
        "for i in range (len(str(n)),0,-1):\n",
        "  rev=rev*10 + (n1%10)\n",
        "  n1=(n1/10)\n",
        "\n",
        "if rev == n:\n",
        "  print(\"Palindrom\")\n",
        "else:\n",
        "  print(\"Not Palindrom\")\n",
        "\n",
        "\n",
        "\n"
      ],
      "metadata": {
        "colab": {
          "base_uri": "https://localhost:8080/"
        },
        "id": "G66oRSSsgw6S",
        "outputId": "e9e4f820-2c13-4913-c0fb-01371a3244db"
      },
      "execution_count": 19,
      "outputs": [
        {
          "output_type": "stream",
          "name": "stdout",
          "text": [
            "Enter the no. :1551551\n",
            "Not Palindrom\n"
          ]
        }
      ]
    },
    {
      "cell_type": "markdown",
      "source": [],
      "metadata": {
        "id": "V5iSMD_-gwVG"
      }
    },
    {
      "cell_type": "markdown",
      "source": [
        "prime no between 0-1000"
      ],
      "metadata": {
        "id": "TyDWyXlTo-xf"
      }
    },
    {
      "cell_type": "code",
      "source": [
        "for j in range (2,1001):\n",
        "  isPrime= True\n",
        "  for i in range(2,j):\n",
        "    if (j%i==0):\n",
        "     isPrime= False\n",
        "     break;\n",
        "  if isPrime:\n",
        "    print(j)\n"
      ],
      "metadata": {
        "colab": {
          "base_uri": "https://localhost:8080/"
        },
        "id": "3h8ESUadXtDj",
        "outputId": "6c80ac14-87c6-4179-e946-d8562a2be645"
      },
      "execution_count": 2,
      "outputs": [
        {
          "output_type": "stream",
          "name": "stdout",
          "text": [
            "2\n",
            "3\n",
            "5\n",
            "7\n",
            "11\n",
            "13\n",
            "17\n",
            "19\n",
            "23\n",
            "29\n",
            "31\n",
            "37\n",
            "41\n",
            "43\n",
            "47\n",
            "53\n",
            "59\n",
            "61\n",
            "67\n",
            "71\n",
            "73\n",
            "79\n",
            "83\n",
            "89\n",
            "97\n",
            "101\n",
            "103\n",
            "107\n",
            "109\n",
            "113\n",
            "127\n",
            "131\n",
            "137\n",
            "139\n",
            "149\n",
            "151\n",
            "157\n",
            "163\n",
            "167\n",
            "173\n",
            "179\n",
            "181\n",
            "191\n",
            "193\n",
            "197\n",
            "199\n",
            "211\n",
            "223\n",
            "227\n",
            "229\n",
            "233\n",
            "239\n",
            "241\n",
            "251\n",
            "257\n",
            "263\n",
            "269\n",
            "271\n",
            "277\n",
            "281\n",
            "283\n",
            "293\n",
            "307\n",
            "311\n",
            "313\n",
            "317\n",
            "331\n",
            "337\n",
            "347\n",
            "349\n",
            "353\n",
            "359\n",
            "367\n",
            "373\n",
            "379\n",
            "383\n",
            "389\n",
            "397\n",
            "401\n",
            "409\n",
            "419\n",
            "421\n",
            "431\n",
            "433\n",
            "439\n",
            "443\n",
            "449\n",
            "457\n",
            "461\n",
            "463\n",
            "467\n",
            "479\n",
            "487\n",
            "491\n",
            "499\n",
            "503\n",
            "509\n",
            "521\n",
            "523\n",
            "541\n",
            "547\n",
            "557\n",
            "563\n",
            "569\n",
            "571\n",
            "577\n",
            "587\n",
            "593\n",
            "599\n",
            "601\n",
            "607\n",
            "613\n",
            "617\n",
            "619\n",
            "631\n",
            "641\n",
            "643\n",
            "647\n",
            "653\n",
            "659\n",
            "661\n",
            "673\n",
            "677\n",
            "683\n",
            "691\n",
            "701\n",
            "709\n",
            "719\n",
            "727\n",
            "733\n",
            "739\n",
            "743\n",
            "751\n",
            "757\n",
            "761\n",
            "769\n",
            "773\n",
            "787\n",
            "797\n",
            "809\n",
            "811\n",
            "821\n",
            "823\n",
            "827\n",
            "829\n",
            "839\n",
            "853\n",
            "857\n",
            "859\n",
            "863\n",
            "877\n",
            "881\n",
            "883\n",
            "887\n",
            "907\n",
            "911\n",
            "919\n",
            "929\n",
            "937\n",
            "941\n",
            "947\n",
            "953\n",
            "967\n",
            "971\n",
            "977\n",
            "983\n",
            "991\n",
            "997\n"
          ]
        }
      ]
    },
    {
      "cell_type": "code",
      "source": [
        "for i in range(1 ,7):\n",
        "  for j in range (1,7):\n",
        "    if (i+j == 5):\n",
        "      print (i,j)"
      ],
      "metadata": {
        "id": "VVSmFIIrmMOa"
      },
      "execution_count": null,
      "outputs": []
    },
    {
      "cell_type": "code",
      "source": [
        "n=int(input(\"Enter the no. :\"))\n",
        "num=0\n",
        "for i in range(1 ,7):\n",
        "  for j in range (1,7):\n",
        "    if (i+j == n):\n",
        "      num=num+1\n",
        "\n",
        "print (round((num/36)*100,2),\"%\")"
      ],
      "metadata": {
        "colab": {
          "base_uri": "https://localhost:8080/"
        },
        "id": "KttxuW4MhlbE",
        "outputId": "74858353-6691-4f32-e485-355edddbd7f7"
      },
      "execution_count": 23,
      "outputs": [
        {
          "output_type": "stream",
          "name": "stdout",
          "text": [
            "Enter the no. :5\n",
            "11.11 %\n"
          ]
        }
      ]
    },
    {
      "cell_type": "code",
      "source": [
        "for k in range (1,19):\n",
        " num=0\n",
        " for l in range (1,7):\n",
        "   for i in range(1 ,7):\n",
        "     for j in range (1,7):\n",
        "        if (i+j+l == k):\n",
        "          num=num+1\n",
        " print(\"probabilty of getting sum\",k,round((num/216)*100,2),\"%\")\n",
        ""
      ],
      "metadata": {
        "colab": {
          "base_uri": "https://localhost:8080/"
        },
        "id": "V2cqNHkkoAlj",
        "outputId": "5a61ab38-10cc-4320-d332-aa89e9881bdc"
      },
      "execution_count": 34,
      "outputs": [
        {
          "output_type": "stream",
          "name": "stdout",
          "text": [
            "probabilty of getting sum 1 0.0 %\n",
            "probabilty of getting sum 2 0.0 %\n",
            "probabilty of getting sum 3 0.46 %\n",
            "probabilty of getting sum 4 1.39 %\n",
            "probabilty of getting sum 5 2.78 %\n",
            "probabilty of getting sum 6 4.63 %\n",
            "probabilty of getting sum 7 6.94 %\n",
            "probabilty of getting sum 8 9.72 %\n",
            "probabilty of getting sum 9 11.57 %\n",
            "probabilty of getting sum 10 12.5 %\n",
            "probabilty of getting sum 11 12.5 %\n",
            "probabilty of getting sum 12 11.57 %\n",
            "probabilty of getting sum 13 9.72 %\n",
            "probabilty of getting sum 14 6.94 %\n",
            "probabilty of getting sum 15 4.63 %\n",
            "probabilty of getting sum 16 2.78 %\n",
            "probabilty of getting sum 17 1.39 %\n",
            "probabilty of getting sum 18 0.46 %\n"
          ]
        }
      ]
    },
    {
      "cell_type": "code",
      "source": [
        "name =\" Aman S[;-099in98979'';[;'h87;a\"\n",
        "\n",
        "for i in name:\n",
        "  if (i in \"asdfghjklzxcvbnmqwertyuiopQWERTYUIOPASDFGHJKLZXCVBNM \"):\n",
        "    print(i)"
      ],
      "metadata": {
        "colab": {
          "base_uri": "https://localhost:8080/"
        },
        "id": "374Gp-G4sCU6",
        "outputId": "64e1b27d-bcd8-480a-f991-5dd0f7b8b93e"
      },
      "execution_count": 40,
      "outputs": [
        {
          "output_type": "stream",
          "name": "stdout",
          "text": [
            " \n",
            "A\n",
            "m\n",
            "a\n",
            "n\n",
            " \n",
            "S\n",
            "i\n",
            "n\n",
            "h\n",
            "a\n"
          ]
        }
      ]
    },
    {
      "cell_type": "code",
      "source": [
        "TEST = \"ASDFGHJKLI'UYTRE461';'lk[]\"\n",
        "NUM_1=0\n",
        "NUM_2=0\n",
        "for i in TEST:\n",
        "  if (i in \"aeiouAIEOU\"):\n",
        "    NUM_1=NUM_1+1\n",
        "  elif (i==' !@#$%^&*()_+=-{}\":?<,./;[]'''):\n",
        "        continue\n",
        "  else:\n",
        "    NUM_2=NUM_2+1\n",
        "\n",
        "print (NUM_1, NUM_2)\n"
      ],
      "metadata": {
        "colab": {
          "base_uri": "https://localhost:8080/"
        },
        "id": "Iqr7BzG4uQQM",
        "outputId": "82b9234e-2d60-4628-d19a-56bfd4967752"
      },
      "execution_count": 55,
      "outputs": [
        {
          "output_type": "stream",
          "name": "stdout",
          "text": [
            "4 22\n"
          ]
        }
      ]
    }
  ]
}